{
 "cells": [
  {
   "cell_type": "raw",
   "metadata": {},
   "source": [
    "Questions 1:\n",
    "Create a numpy array starting from 2 till 50 with a stepsize of 3."
   ]
  },
  {
   "cell_type": "code",
   "execution_count": 2,
   "metadata": {},
   "outputs": [],
   "source": [
    "import numpy as np"
   ]
  },
  {
   "cell_type": "code",
   "execution_count": 5,
   "metadata": {},
   "outputs": [
    {
     "data": {
      "text/plain": [
       "array([ 2,  5,  8, 11, 14, 17, 20, 23, 26, 29, 32, 35, 38, 41, 44, 47, 50])"
      ]
     },
     "execution_count": 5,
     "metadata": {},
     "output_type": "execute_result"
    }
   ],
   "source": [
    "np.arange(2,51,3)"
   ]
  },
  {
   "cell_type": "raw",
   "metadata": {},
   "source": [
    "Questions 2:\n",
    "Accept two lists of 5 elements each from the user.\n",
    "Convert them to numpy arrays. Concatenate these arrays and print it. Also sort these arrays and print it."
   ]
  },
  {
   "cell_type": "code",
   "execution_count": 6,
   "metadata": {},
   "outputs": [
    {
     "name": "stdout",
     "output_type": "stream",
     "text": [
      "10\n",
      "2\n",
      "67\n",
      "3\n",
      "9\n",
      "6\n",
      "0\n",
      "3\n",
      "56\n",
      "38\n",
      "[10  2 67  3  9  6  0  3 56 38]\n",
      "[ 0  2  3  3  6  9 10 38 56 67]\n"
     ]
    }
   ],
   "source": [
    "lst1=[]\n",
    "lst2=[]\n",
    "for i in range(0, 5): \n",
    "    ele=int(input()) \n",
    "    lst1.append(ele)\n",
    "for i in range(0, 5): \n",
    "    ele=int(input()) \n",
    "    lst2.append(ele)\n",
    "arr1=np.array(lst1) \n",
    "arr2=np.array(lst2)\n",
    "arr=np.concatenate((arr1,arr2))\n",
    "print(arr)\n",
    "arr.sort()\n",
    "print(arr)"
   ]
  },
  {
   "cell_type": "raw",
   "metadata": {},
   "source": [
    "Questions 3:\n",
    "Write a code snippet to find the dimensions of a ndarray and its size."
   ]
  },
  {
   "cell_type": "code",
   "execution_count": 7,
   "metadata": {},
   "outputs": [
    {
     "data": {
      "text/plain": [
       "(10,)"
      ]
     },
     "execution_count": 7,
     "metadata": {},
     "output_type": "execute_result"
    }
   ],
   "source": [
    "arr.shape"
   ]
  },
  {
   "cell_type": "code",
   "execution_count": 10,
   "metadata": {},
   "outputs": [
    {
     "data": {
      "text/plain": [
       "(3, 3)"
      ]
     },
     "execution_count": 10,
     "metadata": {},
     "output_type": "execute_result"
    }
   ],
   "source": [
    "arr1=np.array([[1,2,3],[7,8,9],[2,3,4]])\n",
    "arr1.shape"
   ]
  },
  {
   "cell_type": "code",
   "execution_count": 11,
   "metadata": {},
   "outputs": [
    {
     "data": {
      "text/plain": [
       "9"
      ]
     },
     "execution_count": 11,
     "metadata": {},
     "output_type": "execute_result"
    }
   ],
   "source": [
    "arr1.size"
   ]
  },
  {
   "cell_type": "code",
   "execution_count": 12,
   "metadata": {},
   "outputs": [
    {
     "data": {
      "text/plain": [
       "10"
      ]
     },
     "execution_count": 12,
     "metadata": {},
     "output_type": "execute_result"
    }
   ],
   "source": [
    "arr.size"
   ]
  },
  {
   "cell_type": "raw",
   "metadata": {},
   "source": [
    "Questions 4:\n",
    "\n",
    "How to convert a 1D array into a 2D array? Demonstrate with the help of a code snippet\n",
    "Hint: np.newaxis, np.expand_dims"
   ]
  },
  {
   "cell_type": "code",
   "execution_count": 27,
   "metadata": {},
   "outputs": [
    {
     "data": {
      "text/plain": [
       "(1, 2)"
      ]
     },
     "execution_count": 27,
     "metadata": {},
     "output_type": "execute_result"
    }
   ],
   "source": [
    "import numpy as np\n",
    "a = np.array([2, 4])\n",
    "b = np.expand_dims(a, axis=0)\n",
    "b\n",
    "b.shape\n",
    "\n"
   ]
  },
  {
   "cell_type": "raw",
   "metadata": {},
   "source": [
    "Questions 5:\n",
    "Consider two square numpy arrays. Stack them vertically and horizontally.\n",
    "Hint: Use vstack(), hstack()"
   ]
  },
  {
   "cell_type": "code",
   "execution_count": 21,
   "metadata": {},
   "outputs": [
    {
     "name": "stdout",
     "output_type": "stream",
     "text": [
      "[array([[0.26269018],\n",
      "       [0.10453097]]), array([[0.23349342],\n",
      "       [0.04318255]])]\n",
      "[array([[0.26269018, 0.23349342]]), array([[0.10453097, 0.04318255]])]\n",
      "[array([[0.73454738, 0.25821183],\n",
      "       [0.48345565, 0.74301737],\n",
      "       [0.01214849, 0.55264575],\n",
      "       [0.24732955, 0.48212348]]), array([[0.40750254, 0.60540467],\n",
      "       [0.59067544, 0.13515849],\n",
      "       [0.54355097, 0.40752637],\n",
      "       [0.39183303, 0.91267515]])]\n",
      "[array([[0.73454738, 0.25821183, 0.40750254, 0.60540467],\n",
      "       [0.48345565, 0.74301737, 0.59067544, 0.13515849]]), array([[0.01214849, 0.55264575, 0.54355097, 0.40752637],\n",
      "       [0.24732955, 0.48212348, 0.39183303, 0.91267515]])]\n"
     ]
    }
   ],
   "source": [
    "arr1=np.random.rand(2,2)\n",
    "arr2=np.random.rand(4,4)\n",
    "print(np.hsplit(arr1, 2))\n",
    "print(np.vsplit(arr1, 2))\n",
    "print(np.hsplit(arr2, 2))\n",
    "print(np.vsplit(arr2, 2))"
   ]
  },
  {
   "cell_type": "raw",
   "metadata": {},
   "source": [
    "Questions 6:\n",
    "How to get unique items and counts of unique items?"
   ]
  },
  {
   "cell_type": "code",
   "execution_count": 23,
   "metadata": {},
   "outputs": [
    {
     "name": "stdout",
     "output_type": "stream",
     "text": [
      "[[10 20 30 40 50]\n",
      " [ 3  4  2  2  1]]\n"
     ]
    }
   ],
   "source": [
    "a = np.array([10,10,20,10,20,20,20,30, 30,50,40,40])\n",
    "elements, counts = np.unique(a, return_counts=True)\n",
    "print(np.asarray((unique_elements, counts_elements)))"
   ]
  }
 ],
 "metadata": {
  "kernelspec": {
   "display_name": "Python 3",
   "language": "python",
   "name": "python3"
  },
  "language_info": {
   "codemirror_mode": {
    "name": "ipython",
    "version": 3
   },
   "file_extension": ".py",
   "mimetype": "text/x-python",
   "name": "python",
   "nbconvert_exporter": "python",
   "pygments_lexer": "ipython3",
   "version": "3.7.0"
  }
 },
 "nbformat": 4,
 "nbformat_minor": 2
}
